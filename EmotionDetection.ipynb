{
 "cells": [
  {
   "cell_type": "code",
   "execution_count": 1,
   "id": "14cb86c1",
   "metadata": {},
   "outputs": [],
   "source": [
    "from deepface import DeepFace\n",
    "import cv2\n",
    "import os"
   ]
  },
  {
   "cell_type": "code",
   "execution_count": 3,
   "id": "e7740303",
   "metadata": {},
   "outputs": [],
   "source": [
    "cv2_base_dir = os.path.dirname(os.path.abspath(cv2.__file__))\n",
    "haar_model = os.path.join(cv2_base_dir, 'data/haarcascade_frontalface_default.xml')"
   ]
  },
  {
   "cell_type": "code",
   "execution_count": 7,
   "id": "07e0d522",
   "metadata": {},
   "outputs": [],
   "source": [
    "capture = cv2.VideoCapture(0)\n",
    "facedetect = cv2.CascadeClassifier(haar_model)\n",
    "for i in range(1000):\n",
    "    try:\n",
    "        _,frame = capture.read()\n",
    "        faces = facedetect.detectMultiScale(frame,1.1,5) \n",
    "        img = cv2.cvtColor(frame,cv2.COLOR_BGR2RGB)\n",
    "        emotions = DeepFace.analyze(img,actions=['emotion'])\n",
    "        emotion = emotions[\"dominant_emotion\"]\n",
    "        for x,y,w,h in faces:\n",
    "            cv2.putText(frame,emotion,(x+16,y-8),cv2.FONT_HERSHEY_PLAIN,2,(0,255,0),2)\n",
    "            cv2.rectangle(frame,(x,y),(x+w,y+h),(0,0,255),3)\n",
    "        cv2.imshow(\"Frame\",frame)\n",
    "        key = cv2.waitKey(10)\n",
    "        if key == 27:\n",
    "            break\n",
    "    except ValueError:\n",
    "        pass#print(\"No face detected\")\n",
    "capture.release()\n",
    "cv2.destroyAllWindows()"
   ]
  },
  {
   "cell_type": "code",
   "execution_count": null,
   "id": "efa38452",
   "metadata": {},
   "outputs": [],
   "source": []
  }
 ],
 "metadata": {
  "kernelspec": {
   "display_name": "Python 3.9.7 64-bit",
   "language": "python",
   "name": "python3"
  },
  "language_info": {
   "codemirror_mode": {
    "name": "ipython",
    "version": 3
   },
   "file_extension": ".py",
   "mimetype": "text/x-python",
   "name": "python",
   "nbconvert_exporter": "python",
   "pygments_lexer": "ipython3",
   "version": "3.9.7"
  },
  "vscode": {
   "interpreter": {
    "hash": "ca7d875bd37ab344f22ea06c0bd9dc47618d9fb2b9afc736e62ef1aee7dda84e"
   }
  }
 },
 "nbformat": 4,
 "nbformat_minor": 5
}
